{
 "cells": [
  {
   "cell_type": "code",
   "execution_count": 4,
   "id": "d87eccb6",
   "metadata": {},
   "outputs": [],
   "source": [
    "!conda activate test"
   ]
  },
  {
   "cell_type": "code",
   "execution_count": 5,
   "id": "a2ae61e9",
   "metadata": {},
   "outputs": [
    {
     "name": "stdout",
     "output_type": "stream",
     "text": [
      "^C\n"
     ]
    }
   ],
   "source": [
    "!conda install altair"
   ]
  },
  {
   "cell_type": "code",
   "execution_count": 6,
   "id": "d2303305",
   "metadata": {},
   "outputs": [
    {
     "name": "stdout",
     "output_type": "stream",
     "text": [
      "^C\n"
     ]
    }
   ],
   "source": [
    "conda install -c conda-forge vega_dataset"
   ]
  },
  {
   "cell_type": "code",
   "execution_count": 7,
   "id": "2d51e91b",
   "metadata": {},
   "outputs": [
    {
     "name": "stdout",
     "output_type": "stream",
     "text": [
      "^C\n"
     ]
    }
   ],
   "source": [
    "!conda list altair"
   ]
  },
  {
   "cell_type": "code",
   "execution_count": null,
   "id": "0801ca95",
   "metadata": {},
   "outputs": [],
   "source": []
  }
 ],
 "metadata": {
  "kernelspec": {
   "display_name": "Python 3 (ipykernel)",
   "language": "python",
   "name": "python3"
  },
  "language_info": {
   "codemirror_mode": {
    "name": "ipython",
    "version": 3
   },
   "file_extension": ".py",
   "mimetype": "text/x-python",
   "name": "python",
   "nbconvert_exporter": "python",
   "pygments_lexer": "ipython3",
   "version": "3.9.12"
  }
 },
 "nbformat": 4,
 "nbformat_minor": 5
}
